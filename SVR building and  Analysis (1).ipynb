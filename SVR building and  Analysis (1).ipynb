{
 "cells": [
  {
   "cell_type": "markdown",
   "id": "d62d1b50",
   "metadata": {},
   "source": [
    "# Importing Dependencies"
   ]
  },
  {
   "cell_type": "code",
   "execution_count": 1,
   "id": "e8eaa440",
   "metadata": {},
   "outputs": [],
   "source": [
    "'''\n",
    "The Required basic dependencies are imported for general operations\n",
    "\n",
    "'''\n",
    "\n",
    "import pandas as pd    # Pandas library is imported,so that Pandas DataFrame can be used\n",
    "\n",
    "import numpy as np     # Numpy is library used for Mathematical Operations\n",
    "\n",
    "import matplotlib.pyplot as plt   # Matplotlib Dependency is used  visualize the required plots \n",
    "%matplotlib inline               "
   ]
  },
  {
   "cell_type": "markdown",
   "id": "7d5e3da8",
   "metadata": {},
   "source": [
    "# Importing Insurance DataSet"
   ]
  },
  {
   "cell_type": "code",
   "execution_count": 2,
   "id": "c74dae94",
   "metadata": {},
   "outputs": [
    {
     "data": {
      "text/html": [
       "<div>\n",
       "<style scoped>\n",
       "    .dataframe tbody tr th:only-of-type {\n",
       "        vertical-align: middle;\n",
       "    }\n",
       "\n",
       "    .dataframe tbody tr th {\n",
       "        vertical-align: top;\n",
       "    }\n",
       "\n",
       "    .dataframe thead th {\n",
       "        text-align: right;\n",
       "    }\n",
       "</style>\n",
       "<table border=\"1\" class=\"dataframe\">\n",
       "  <thead>\n",
       "    <tr style=\"text-align: right;\">\n",
       "      <th></th>\n",
       "      <th>Unnamed: 0</th>\n",
       "      <th>Gender</th>\n",
       "      <th>Day</th>\n",
       "      <th>Event_i</th>\n",
       "      <th>Event_d</th>\n",
       "      <th>No_event</th>\n",
       "      <th>Time_Slot</th>\n",
       "      <th>Rating</th>\n",
       "      <th>Number</th>\n",
       "    </tr>\n",
       "  </thead>\n",
       "  <tbody>\n",
       "    <tr>\n",
       "      <th>0</th>\n",
       "      <td>0</td>\n",
       "      <td>male</td>\n",
       "      <td>Monday</td>\n",
       "      <td>yes</td>\n",
       "      <td>no</td>\n",
       "      <td>no</td>\n",
       "      <td>12:30-1:30</td>\n",
       "      <td>34</td>\n",
       "      <td>2209</td>\n",
       "    </tr>\n",
       "    <tr>\n",
       "      <th>1</th>\n",
       "      <td>1</td>\n",
       "      <td>male</td>\n",
       "      <td>Monday</td>\n",
       "      <td>yes</td>\n",
       "      <td>no</td>\n",
       "      <td>no</td>\n",
       "      <td>12:30-1:30</td>\n",
       "      <td>39</td>\n",
       "      <td>2309</td>\n",
       "    </tr>\n",
       "    <tr>\n",
       "      <th>2</th>\n",
       "      <td>2</td>\n",
       "      <td>male</td>\n",
       "      <td>Monday</td>\n",
       "      <td>yes</td>\n",
       "      <td>no</td>\n",
       "      <td>no</td>\n",
       "      <td>12:30-1:30</td>\n",
       "      <td>36</td>\n",
       "      <td>2252</td>\n",
       "    </tr>\n",
       "    <tr>\n",
       "      <th>3</th>\n",
       "      <td>3</td>\n",
       "      <td>male</td>\n",
       "      <td>Monday</td>\n",
       "      <td>yes</td>\n",
       "      <td>no</td>\n",
       "      <td>no</td>\n",
       "      <td>12:30-1:30</td>\n",
       "      <td>38</td>\n",
       "      <td>2283</td>\n",
       "    </tr>\n",
       "    <tr>\n",
       "      <th>4</th>\n",
       "      <td>4</td>\n",
       "      <td>male</td>\n",
       "      <td>Monday</td>\n",
       "      <td>yes</td>\n",
       "      <td>no</td>\n",
       "      <td>no</td>\n",
       "      <td>12:30-1:30</td>\n",
       "      <td>39</td>\n",
       "      <td>2302</td>\n",
       "    </tr>\n",
       "  </tbody>\n",
       "</table>\n",
       "</div>"
      ],
      "text/plain": [
       "   Unnamed: 0 Gender     Day Event_i Event_d No_event   Time_Slot  Rating  \\\n",
       "0           0   male  Monday     yes      no       no  12:30-1:30      34   \n",
       "1           1   male  Monday     yes      no       no  12:30-1:30      39   \n",
       "2           2   male  Monday     yes      no       no  12:30-1:30      36   \n",
       "3           3   male  Monday     yes      no       no  12:30-1:30      38   \n",
       "4           4   male  Monday     yes      no       no  12:30-1:30      39   \n",
       "\n",
       "   Number  \n",
       "0    2209  \n",
       "1    2309  \n",
       "2    2252  \n",
       "3    2283  \n",
       "4    2302  "
      ]
     },
     "execution_count": 2,
     "metadata": {},
     "output_type": "execute_result"
    }
   ],
   "source": [
    "df=pd.read_csv('College_Mess_Data.csv')  # To read the csv file\n",
    "\n",
    "df.head() # To print frist 5 Datapoints"
   ]
  },
  {
   "cell_type": "markdown",
   "id": "e73a22ba",
   "metadata": {},
   "source": [
    "# Deleting the column which is not required"
   ]
  },
  {
   "cell_type": "code",
   "execution_count": 3,
   "id": "e2944f5e",
   "metadata": {},
   "outputs": [
    {
     "data": {
      "text/html": [
       "<div>\n",
       "<style scoped>\n",
       "    .dataframe tbody tr th:only-of-type {\n",
       "        vertical-align: middle;\n",
       "    }\n",
       "\n",
       "    .dataframe tbody tr th {\n",
       "        vertical-align: top;\n",
       "    }\n",
       "\n",
       "    .dataframe thead th {\n",
       "        text-align: right;\n",
       "    }\n",
       "</style>\n",
       "<table border=\"1\" class=\"dataframe\">\n",
       "  <thead>\n",
       "    <tr style=\"text-align: right;\">\n",
       "      <th></th>\n",
       "      <th>Gender</th>\n",
       "      <th>Day</th>\n",
       "      <th>Event_i</th>\n",
       "      <th>Event_d</th>\n",
       "      <th>No_event</th>\n",
       "      <th>Time_Slot</th>\n",
       "      <th>Rating</th>\n",
       "      <th>Number</th>\n",
       "    </tr>\n",
       "  </thead>\n",
       "  <tbody>\n",
       "    <tr>\n",
       "      <th>0</th>\n",
       "      <td>male</td>\n",
       "      <td>Monday</td>\n",
       "      <td>yes</td>\n",
       "      <td>no</td>\n",
       "      <td>no</td>\n",
       "      <td>12:30-1:30</td>\n",
       "      <td>34</td>\n",
       "      <td>2209</td>\n",
       "    </tr>\n",
       "    <tr>\n",
       "      <th>1</th>\n",
       "      <td>male</td>\n",
       "      <td>Monday</td>\n",
       "      <td>yes</td>\n",
       "      <td>no</td>\n",
       "      <td>no</td>\n",
       "      <td>12:30-1:30</td>\n",
       "      <td>39</td>\n",
       "      <td>2309</td>\n",
       "    </tr>\n",
       "    <tr>\n",
       "      <th>2</th>\n",
       "      <td>male</td>\n",
       "      <td>Monday</td>\n",
       "      <td>yes</td>\n",
       "      <td>no</td>\n",
       "      <td>no</td>\n",
       "      <td>12:30-1:30</td>\n",
       "      <td>36</td>\n",
       "      <td>2252</td>\n",
       "    </tr>\n",
       "    <tr>\n",
       "      <th>3</th>\n",
       "      <td>male</td>\n",
       "      <td>Monday</td>\n",
       "      <td>yes</td>\n",
       "      <td>no</td>\n",
       "      <td>no</td>\n",
       "      <td>12:30-1:30</td>\n",
       "      <td>38</td>\n",
       "      <td>2283</td>\n",
       "    </tr>\n",
       "    <tr>\n",
       "      <th>4</th>\n",
       "      <td>male</td>\n",
       "      <td>Monday</td>\n",
       "      <td>yes</td>\n",
       "      <td>no</td>\n",
       "      <td>no</td>\n",
       "      <td>12:30-1:30</td>\n",
       "      <td>39</td>\n",
       "      <td>2302</td>\n",
       "    </tr>\n",
       "    <tr>\n",
       "      <th>...</th>\n",
       "      <td>...</td>\n",
       "      <td>...</td>\n",
       "      <td>...</td>\n",
       "      <td>...</td>\n",
       "      <td>...</td>\n",
       "      <td>...</td>\n",
       "      <td>...</td>\n",
       "      <td>...</td>\n",
       "    </tr>\n",
       "    <tr>\n",
       "      <th>983</th>\n",
       "      <td>female</td>\n",
       "      <td>Saturday</td>\n",
       "      <td>no</td>\n",
       "      <td>no</td>\n",
       "      <td>yes</td>\n",
       "      <td>1:30-2:30</td>\n",
       "      <td>12</td>\n",
       "      <td>588</td>\n",
       "    </tr>\n",
       "    <tr>\n",
       "      <th>984</th>\n",
       "      <td>female</td>\n",
       "      <td>Saturday</td>\n",
       "      <td>no</td>\n",
       "      <td>no</td>\n",
       "      <td>yes</td>\n",
       "      <td>1:30-2:30</td>\n",
       "      <td>14</td>\n",
       "      <td>613</td>\n",
       "    </tr>\n",
       "    <tr>\n",
       "      <th>985</th>\n",
       "      <td>female</td>\n",
       "      <td>Saturday</td>\n",
       "      <td>no</td>\n",
       "      <td>no</td>\n",
       "      <td>yes</td>\n",
       "      <td>1:30-2:30</td>\n",
       "      <td>12</td>\n",
       "      <td>589</td>\n",
       "    </tr>\n",
       "    <tr>\n",
       "      <th>986</th>\n",
       "      <td>female</td>\n",
       "      <td>Saturday</td>\n",
       "      <td>no</td>\n",
       "      <td>no</td>\n",
       "      <td>yes</td>\n",
       "      <td>1:30-2:30</td>\n",
       "      <td>12</td>\n",
       "      <td>586</td>\n",
       "    </tr>\n",
       "    <tr>\n",
       "      <th>987</th>\n",
       "      <td>female</td>\n",
       "      <td>Saturday</td>\n",
       "      <td>no</td>\n",
       "      <td>no</td>\n",
       "      <td>yes</td>\n",
       "      <td>1:30-2:30</td>\n",
       "      <td>13</td>\n",
       "      <td>595</td>\n",
       "    </tr>\n",
       "  </tbody>\n",
       "</table>\n",
       "<p>988 rows × 8 columns</p>\n",
       "</div>"
      ],
      "text/plain": [
       "     Gender       Day Event_i Event_d No_event   Time_Slot  Rating  Number\n",
       "0      male    Monday     yes      no       no  12:30-1:30      34    2209\n",
       "1      male    Monday     yes      no       no  12:30-1:30      39    2309\n",
       "2      male    Monday     yes      no       no  12:30-1:30      36    2252\n",
       "3      male    Monday     yes      no       no  12:30-1:30      38    2283\n",
       "4      male    Monday     yes      no       no  12:30-1:30      39    2302\n",
       "..      ...       ...     ...     ...      ...         ...     ...     ...\n",
       "983  female  Saturday      no      no      yes   1:30-2:30      12     588\n",
       "984  female  Saturday      no      no      yes   1:30-2:30      14     613\n",
       "985  female  Saturday      no      no      yes   1:30-2:30      12     589\n",
       "986  female  Saturday      no      no      yes   1:30-2:30      12     586\n",
       "987  female  Saturday      no      no      yes   1:30-2:30      13     595\n",
       "\n",
       "[988 rows x 8 columns]"
      ]
     },
     "execution_count": 3,
     "metadata": {},
     "output_type": "execute_result"
    }
   ],
   "source": [
    "df.pop('Unnamed: 0')\n",
    "df"
   ]
  },
  {
   "cell_type": "markdown",
   "id": "b245d07f",
   "metadata": {},
   "source": [
    "# Checking for null values"
   ]
  },
  {
   "cell_type": "code",
   "execution_count": 4,
   "id": "2d1a394e",
   "metadata": {},
   "outputs": [
    {
     "data": {
      "text/plain": [
       "Gender       0\n",
       "Day          0\n",
       "Event_i      0\n",
       "Event_d      0\n",
       "No_event     0\n",
       "Time_Slot    0\n",
       "Rating       0\n",
       "Number       0\n",
       "dtype: int64"
      ]
     },
     "execution_count": 4,
     "metadata": {},
     "output_type": "execute_result"
    }
   ],
   "source": [
    "df.isnull().sum() # found no null values bacuse it is a created DataSet"
   ]
  },
  {
   "cell_type": "markdown",
   "id": "8ea035a3",
   "metadata": {},
   "source": [
    "# Getting the Statistical Data"
   ]
  },
  {
   "cell_type": "code",
   "execution_count": 5,
   "id": "27f257c9",
   "metadata": {},
   "outputs": [
    {
     "data": {
      "text/html": [
       "<div>\n",
       "<style scoped>\n",
       "    .dataframe tbody tr th:only-of-type {\n",
       "        vertical-align: middle;\n",
       "    }\n",
       "\n",
       "    .dataframe tbody tr th {\n",
       "        vertical-align: top;\n",
       "    }\n",
       "\n",
       "    .dataframe thead th {\n",
       "        text-align: right;\n",
       "    }\n",
       "</style>\n",
       "<table border=\"1\" class=\"dataframe\">\n",
       "  <thead>\n",
       "    <tr style=\"text-align: right;\">\n",
       "      <th></th>\n",
       "      <th>Rating</th>\n",
       "      <th>Number</th>\n",
       "    </tr>\n",
       "  </thead>\n",
       "  <tbody>\n",
       "    <tr>\n",
       "      <th>count</th>\n",
       "      <td>988.000000</td>\n",
       "      <td>988.000000</td>\n",
       "    </tr>\n",
       "    <tr>\n",
       "      <th>mean</th>\n",
       "      <td>38.283401</td>\n",
       "      <td>1302.768219</td>\n",
       "    </tr>\n",
       "    <tr>\n",
       "      <th>std</th>\n",
       "      <td>22.077891</td>\n",
       "      <td>651.324695</td>\n",
       "    </tr>\n",
       "    <tr>\n",
       "      <th>min</th>\n",
       "      <td>12.000000</td>\n",
       "      <td>496.000000</td>\n",
       "    </tr>\n",
       "    <tr>\n",
       "      <th>25%</th>\n",
       "      <td>18.000000</td>\n",
       "      <td>675.750000</td>\n",
       "    </tr>\n",
       "    <tr>\n",
       "      <th>50%</th>\n",
       "      <td>36.000000</td>\n",
       "      <td>871.500000</td>\n",
       "    </tr>\n",
       "    <tr>\n",
       "      <th>75%</th>\n",
       "      <td>50.000000</td>\n",
       "      <td>1886.500000</td>\n",
       "    </tr>\n",
       "    <tr>\n",
       "      <th>max</th>\n",
       "      <td>77.000000</td>\n",
       "      <td>2448.000000</td>\n",
       "    </tr>\n",
       "  </tbody>\n",
       "</table>\n",
       "</div>"
      ],
      "text/plain": [
       "           Rating       Number\n",
       "count  988.000000   988.000000\n",
       "mean    38.283401  1302.768219\n",
       "std     22.077891   651.324695\n",
       "min     12.000000   496.000000\n",
       "25%     18.000000   675.750000\n",
       "50%     36.000000   871.500000\n",
       "75%     50.000000  1886.500000\n",
       "max     77.000000  2448.000000"
      ]
     },
     "execution_count": 5,
     "metadata": {},
     "output_type": "execute_result"
    }
   ],
   "source": [
    "df.describe()"
   ]
  },
  {
   "cell_type": "markdown",
   "id": "4260ec0f",
   "metadata": {},
   "source": [
    "# Label Encoding"
   ]
  },
  {
   "cell_type": "code",
   "execution_count": 6,
   "id": "a272059e",
   "metadata": {},
   "outputs": [
    {
     "data": {
      "text/plain": [
       "\"\\nlabel_encoder=preprocessing.LabelEncoder()\\n\\n\\ndf['Gender']=label_encoder.fit_transform(df['Gender'])\\ndf['Day']=label_encoder.fit_transform(df['Day'])\\ndf['Event_i']=label_encoder.fit_transform(df['Event_i'])\\ndf['Event_d']=label_encoder.fit_transform(df['Event_d'])\\ndf['No_event']=label_encoder.fit_transform(df['No_event'])\\ndf['Time_Slot']=label_encoder.fit_transform(df['Time_Slot'])\\n\\ndf['Gender'].unique()\\ndf['Day'].unique()\\ndf['Event_i'].unique()\\ndf['Event_d'].unique()\\ndf['No_event'].unique()\\ndf['Time_Slot'].unique()\\n\\n\""
      ]
     },
     "execution_count": 6,
     "metadata": {},
     "output_type": "execute_result"
    }
   ],
   "source": [
    "# As machine deals with Numericals Characerters are converted into Integers\n",
    "\n",
    "from sklearn.preprocessing import LabelEncoder\n",
    "'''\n",
    "label_encoder=preprocessing.LabelEncoder()\n",
    "\n",
    "\n",
    "df['Gender']=label_encoder.fit_transform(df['Gender'])\n",
    "df['Day']=label_encoder.fit_transform(df['Day'])\n",
    "df['Event_i']=label_encoder.fit_transform(df['Event_i'])\n",
    "df['Event_d']=label_encoder.fit_transform(df['Event_d'])\n",
    "df['No_event']=label_encoder.fit_transform(df['No_event'])\n",
    "df['Time_Slot']=label_encoder.fit_transform(df['Time_Slot'])\n",
    "\n",
    "df['Gender'].unique()\n",
    "df['Day'].unique()\n",
    "df['Event_i'].unique()\n",
    "df['Event_d'].unique()\n",
    "df['No_event'].unique()\n",
    "df['Time_Slot'].unique()\n",
    "\n",
    "'''"
   ]
  },
  {
   "cell_type": "code",
   "execution_count": 7,
   "id": "71062ef6",
   "metadata": {},
   "outputs": [
    {
     "data": {
      "text/plain": [
       "array([1, 0])"
      ]
     },
     "execution_count": 7,
     "metadata": {},
     "output_type": "execute_result"
    }
   ],
   "source": [
    "le_Gender=LabelEncoder()\n",
    "df['Gender']=le_Gender.fit_transform(df['Gender'])\n",
    "df['Gender'].unique()"
   ]
  },
  {
   "cell_type": "code",
   "execution_count": 8,
   "id": "af53f062",
   "metadata": {},
   "outputs": [
    {
     "data": {
      "text/plain": [
       "array([1, 4, 5, 3, 0, 2])"
      ]
     },
     "execution_count": 8,
     "metadata": {},
     "output_type": "execute_result"
    }
   ],
   "source": [
    "le_Day=LabelEncoder()\n",
    "df['Day']=le_Day.fit_transform(df['Day'])\n",
    "df['Day'].unique()"
   ]
  },
  {
   "cell_type": "code",
   "execution_count": 9,
   "id": "8fdb3b5f",
   "metadata": {},
   "outputs": [
    {
     "data": {
      "text/plain": [
       "array([1, 0])"
      ]
     },
     "execution_count": 9,
     "metadata": {},
     "output_type": "execute_result"
    }
   ],
   "source": [
    "le_Event_i=LabelEncoder()\n",
    "df['Event_i']=le_Event_i.fit_transform(df['Event_i'])\n",
    "df['Event_i'].unique()"
   ]
  },
  {
   "cell_type": "code",
   "execution_count": 10,
   "id": "447d9591",
   "metadata": {},
   "outputs": [
    {
     "data": {
      "text/plain": [
       "array([0, 1])"
      ]
     },
     "execution_count": 10,
     "metadata": {},
     "output_type": "execute_result"
    }
   ],
   "source": [
    "le_Event_d=LabelEncoder()\n",
    "df['Event_d']=le_Event_d.fit_transform(df['Event_d'])\n",
    "df['Event_d'].unique()"
   ]
  },
  {
   "cell_type": "code",
   "execution_count": 11,
   "id": "54cb2a9c",
   "metadata": {},
   "outputs": [
    {
     "data": {
      "text/plain": [
       "array([0, 1])"
      ]
     },
     "execution_count": 11,
     "metadata": {},
     "output_type": "execute_result"
    }
   ],
   "source": [
    "le_No_event=LabelEncoder()\n",
    "df['No_event']=le_No_event.fit_transform(df['No_event'])\n",
    "df['No_event'].unique()"
   ]
  },
  {
   "cell_type": "code",
   "execution_count": 12,
   "id": "fc2eb768",
   "metadata": {},
   "outputs": [
    {
     "data": {
      "text/plain": [
       "array([0, 1])"
      ]
     },
     "execution_count": 12,
     "metadata": {},
     "output_type": "execute_result"
    }
   ],
   "source": [
    "le_Time_Slot=LabelEncoder()\n",
    "df['Time_Slot']=le_Time_Slot.fit_transform(df['Time_Slot'])\n",
    "df['Time_Slot'].unique()"
   ]
  },
  {
   "cell_type": "code",
   "execution_count": 13,
   "id": "9d29ed4e",
   "metadata": {},
   "outputs": [
    {
     "data": {
      "text/html": [
       "<div>\n",
       "<style scoped>\n",
       "    .dataframe tbody tr th:only-of-type {\n",
       "        vertical-align: middle;\n",
       "    }\n",
       "\n",
       "    .dataframe tbody tr th {\n",
       "        vertical-align: top;\n",
       "    }\n",
       "\n",
       "    .dataframe thead th {\n",
       "        text-align: right;\n",
       "    }\n",
       "</style>\n",
       "<table border=\"1\" class=\"dataframe\">\n",
       "  <thead>\n",
       "    <tr style=\"text-align: right;\">\n",
       "      <th></th>\n",
       "      <th>Gender</th>\n",
       "      <th>Day</th>\n",
       "      <th>Event_i</th>\n",
       "      <th>Event_d</th>\n",
       "      <th>No_event</th>\n",
       "      <th>Time_Slot</th>\n",
       "      <th>Rating</th>\n",
       "      <th>Number</th>\n",
       "    </tr>\n",
       "  </thead>\n",
       "  <tbody>\n",
       "    <tr>\n",
       "      <th>0</th>\n",
       "      <td>1</td>\n",
       "      <td>1</td>\n",
       "      <td>1</td>\n",
       "      <td>0</td>\n",
       "      <td>0</td>\n",
       "      <td>0</td>\n",
       "      <td>34</td>\n",
       "      <td>2209</td>\n",
       "    </tr>\n",
       "    <tr>\n",
       "      <th>1</th>\n",
       "      <td>1</td>\n",
       "      <td>1</td>\n",
       "      <td>1</td>\n",
       "      <td>0</td>\n",
       "      <td>0</td>\n",
       "      <td>0</td>\n",
       "      <td>39</td>\n",
       "      <td>2309</td>\n",
       "    </tr>\n",
       "    <tr>\n",
       "      <th>2</th>\n",
       "      <td>1</td>\n",
       "      <td>1</td>\n",
       "      <td>1</td>\n",
       "      <td>0</td>\n",
       "      <td>0</td>\n",
       "      <td>0</td>\n",
       "      <td>36</td>\n",
       "      <td>2252</td>\n",
       "    </tr>\n",
       "    <tr>\n",
       "      <th>3</th>\n",
       "      <td>1</td>\n",
       "      <td>1</td>\n",
       "      <td>1</td>\n",
       "      <td>0</td>\n",
       "      <td>0</td>\n",
       "      <td>0</td>\n",
       "      <td>38</td>\n",
       "      <td>2283</td>\n",
       "    </tr>\n",
       "    <tr>\n",
       "      <th>4</th>\n",
       "      <td>1</td>\n",
       "      <td>1</td>\n",
       "      <td>1</td>\n",
       "      <td>0</td>\n",
       "      <td>0</td>\n",
       "      <td>0</td>\n",
       "      <td>39</td>\n",
       "      <td>2302</td>\n",
       "    </tr>\n",
       "    <tr>\n",
       "      <th>...</th>\n",
       "      <td>...</td>\n",
       "      <td>...</td>\n",
       "      <td>...</td>\n",
       "      <td>...</td>\n",
       "      <td>...</td>\n",
       "      <td>...</td>\n",
       "      <td>...</td>\n",
       "      <td>...</td>\n",
       "    </tr>\n",
       "    <tr>\n",
       "      <th>983</th>\n",
       "      <td>0</td>\n",
       "      <td>2</td>\n",
       "      <td>0</td>\n",
       "      <td>0</td>\n",
       "      <td>1</td>\n",
       "      <td>1</td>\n",
       "      <td>12</td>\n",
       "      <td>588</td>\n",
       "    </tr>\n",
       "    <tr>\n",
       "      <th>984</th>\n",
       "      <td>0</td>\n",
       "      <td>2</td>\n",
       "      <td>0</td>\n",
       "      <td>0</td>\n",
       "      <td>1</td>\n",
       "      <td>1</td>\n",
       "      <td>14</td>\n",
       "      <td>613</td>\n",
       "    </tr>\n",
       "    <tr>\n",
       "      <th>985</th>\n",
       "      <td>0</td>\n",
       "      <td>2</td>\n",
       "      <td>0</td>\n",
       "      <td>0</td>\n",
       "      <td>1</td>\n",
       "      <td>1</td>\n",
       "      <td>12</td>\n",
       "      <td>589</td>\n",
       "    </tr>\n",
       "    <tr>\n",
       "      <th>986</th>\n",
       "      <td>0</td>\n",
       "      <td>2</td>\n",
       "      <td>0</td>\n",
       "      <td>0</td>\n",
       "      <td>1</td>\n",
       "      <td>1</td>\n",
       "      <td>12</td>\n",
       "      <td>586</td>\n",
       "    </tr>\n",
       "    <tr>\n",
       "      <th>987</th>\n",
       "      <td>0</td>\n",
       "      <td>2</td>\n",
       "      <td>0</td>\n",
       "      <td>0</td>\n",
       "      <td>1</td>\n",
       "      <td>1</td>\n",
       "      <td>13</td>\n",
       "      <td>595</td>\n",
       "    </tr>\n",
       "  </tbody>\n",
       "</table>\n",
       "<p>988 rows × 8 columns</p>\n",
       "</div>"
      ],
      "text/plain": [
       "     Gender  Day  Event_i  Event_d  No_event  Time_Slot  Rating  Number\n",
       "0         1    1        1        0         0          0      34    2209\n",
       "1         1    1        1        0         0          0      39    2309\n",
       "2         1    1        1        0         0          0      36    2252\n",
       "3         1    1        1        0         0          0      38    2283\n",
       "4         1    1        1        0         0          0      39    2302\n",
       "..      ...  ...      ...      ...       ...        ...     ...     ...\n",
       "983       0    2        0        0         1          1      12     588\n",
       "984       0    2        0        0         1          1      14     613\n",
       "985       0    2        0        0         1          1      12     589\n",
       "986       0    2        0        0         1          1      12     586\n",
       "987       0    2        0        0         1          1      13     595\n",
       "\n",
       "[988 rows x 8 columns]"
      ]
     },
     "execution_count": 13,
     "metadata": {},
     "output_type": "execute_result"
    }
   ],
   "source": [
    "df"
   ]
  },
  {
   "cell_type": "markdown",
   "id": "76a60241",
   "metadata": {},
   "source": [
    "# Train Test Splitting"
   ]
  },
  {
   "cell_type": "code",
   "execution_count": 14,
   "id": "b8a9a0e2",
   "metadata": {},
   "outputs": [],
   "source": [
    "from sklearn.model_selection import train_test_split\n",
    "\n",
    "x=df.drop(columns='Number',axis=1)  # Target Variable Column deleted Dataframe \n",
    "\n",
    "y=df['Number']   # Target Variable Dataframe\n",
    "\n",
    "X_train,X_test,Y_train,Y_test=train_test_split(x,y,test_size=0.15,random_state = 2)"
   ]
  },
  {
   "cell_type": "markdown",
   "id": "a55181b7",
   "metadata": {},
   "source": [
    "# Building Suport Vector Regressor using *linear function*"
   ]
  },
  {
   "cell_type": "code",
   "execution_count": 15,
   "id": "5c7f668f",
   "metadata": {},
   "outputs": [
    {
     "data": {
      "text/plain": [
       "Pipeline(steps=[('standardscaler', StandardScaler()),\n",
       "                ('svr', SVR(C=100, gamma='auto', kernel='linear'))])"
      ]
     },
     "execution_count": 15,
     "metadata": {},
     "output_type": "execute_result"
    }
   ],
   "source": [
    "from sklearn.svm import SVR                        # Importing Support Vector Regressor\n",
    "from sklearn.pipeline import make_pipeline         # To create A pipeline\n",
    "from sklearn.preprocessing import StandardScaler   # Used for the Strandardization\n",
    "\n",
    "regr_linear = make_pipeline(StandardScaler(), SVR(kernel=\"linear\", C=100, gamma=\"auto\"))\n",
    "\n",
    "# Training the Data to ML model\n",
    "regr_linear.fit(X_train, Y_train)"
   ]
  },
  {
   "cell_type": "code",
   "execution_count": 16,
   "id": "565dcd0d",
   "metadata": {},
   "outputs": [],
   "source": [
    "# Getting the predictions\n",
    "Y_pred_linear=regr_linear.predict(X_test)"
   ]
  },
  {
   "cell_type": "markdown",
   "id": "30021cb5",
   "metadata": {},
   "source": [
    "# Model Evaluation for Linear Kernal"
   ]
  },
  {
   "cell_type": "code",
   "execution_count": 17,
   "id": "cddc41ed",
   "metadata": {},
   "outputs": [
    {
     "name": "stdout",
     "output_type": "stream",
     "text": [
      "mean squared error is 21475.208347471307\n",
      "Root Mean Squared Error is 146.54421976820277\n",
      "R2 Score is 0.953256666736149\n"
     ]
    }
   ],
   "source": [
    "# importing regression metrics\n",
    "\n",
    "import sklearn.metrics as metrics\n",
    "\n",
    "# Finding mean_squared_error\n",
    "mse=metrics.mean_squared_error(Y_test,Y_pred_linear)\n",
    "print('mean squared error is',mse)\n",
    "\n",
    "# Finding Root Mean Squared Error\n",
    "rmse=np.sqrt(mse)\n",
    "print('Root Mean Squared Error is',rmse)\n",
    "\n",
    "# Finding R2 Score\n",
    "r2=metrics.r2_score(Y_test,Y_pred_linear)  # It represents the accuracy\n",
    "print('R2 Score is',r2)"
   ]
  },
  {
   "cell_type": "markdown",
   "id": "d1b7ba27",
   "metadata": {},
   "source": [
    "# Building Suport Vector Regressor using *Robust function*"
   ]
  },
  {
   "cell_type": "code",
   "execution_count": 18,
   "id": "ec8a159a",
   "metadata": {},
   "outputs": [
    {
     "data": {
      "text/plain": [
       "Pipeline(steps=[('standardscaler', StandardScaler()),\n",
       "                ('svr', SVR(C=100, gamma=0.1))])"
      ]
     },
     "execution_count": 18,
     "metadata": {},
     "output_type": "execute_result"
    }
   ],
   "source": [
    "regr_RBF = make_pipeline(StandardScaler(),SVR(kernel=\"rbf\", C=100, gamma=0.1, epsilon=0.1))\n",
    "\n",
    "# Training the Data to ML model\n",
    "regr_RBF.fit(X_train, Y_train)"
   ]
  },
  {
   "cell_type": "code",
   "execution_count": 19,
   "id": "b00c9433",
   "metadata": {},
   "outputs": [],
   "source": [
    "# Getting the Predictions\n",
    "\n",
    "Y_pred_RBF=regr_RBF.predict(X_test)"
   ]
  },
  {
   "cell_type": "markdown",
   "id": "319316f1",
   "metadata": {},
   "source": [
    "# Model Evaluation for Robust Kernal"
   ]
  },
  {
   "cell_type": "code",
   "execution_count": 20,
   "id": "4ad0bb4d",
   "metadata": {},
   "outputs": [
    {
     "name": "stdout",
     "output_type": "stream",
     "text": [
      "mean squared error is 4889.713809648305\n",
      "Root Mean Squared Error is 69.92648861231561\n",
      "R2 Score is 0.9893569590352236\n"
     ]
    }
   ],
   "source": [
    "# importing regression metrics\n",
    "\n",
    "import sklearn.metrics as metrics\n",
    "\n",
    "# Finding mean_squared_error\n",
    "mse=metrics.mean_squared_error(Y_test,Y_pred_RBF)\n",
    "print('mean squared error is',mse)\n",
    "\n",
    "# Finding Root Mean Squared Error\n",
    "rmse=np.sqrt(mse)\n",
    "print('Root Mean Squared Error is',rmse)\n",
    "\n",
    "# Finding R2 Score\n",
    "r2=metrics.r2_score(Y_test,Y_pred_RBF)  # It represents the accuracy\n",
    "print('R2 Score is',r2)"
   ]
  },
  {
   "cell_type": "markdown",
   "id": "e2a6ca62",
   "metadata": {},
   "source": [
    "**By observation we found that SVR using Robust gives good accuracy. Hence it is used to for creating \"The Predictor\"**"
   ]
  },
  {
   "cell_type": "markdown",
   "id": "54865feb",
   "metadata": {},
   "source": [
    "**Standard Table for Rating**"
   ]
  },
  {
   "cell_type": "markdown",
   "id": "f342682e",
   "metadata": {},
   "source": [
    "| CASE | RATING (in %)|\n",
    "|-------|--------|\n",
    "|No event| 12-15% |80-85%|\n",
    "|Normal Decrement | 17-23% |74-79%|\n",
    "|Normal Increment |34-40% |86-91%|\n",
    "|Special Increment |46-52%|92-97%|\n",
    "|Special Decrement |72-78%|68-73%|"
   ]
  },
  {
   "cell_type": "markdown",
   "id": "ae403317",
   "metadata": {},
   "source": [
    "# Predictor"
   ]
  },
  {
   "cell_type": "code",
   "execution_count": 21,
   "id": "813a51bc",
   "metadata": {},
   "outputs": [
    {
     "name": "stdout",
     "output_type": "stream",
     "text": [
      "Enter the GenderMale\n",
      "Enter the DayFriday\n",
      "Type YES if it is increment event event else type NO YES\n",
      "Type YES if it is decrement event else type NO NO\n",
      "Type YES if it is No event else type NO NO\n",
      "Enter the TimeSlot12:30-1:30\n",
      "Based on event and Standard Table, enter the Rating51\n",
      "Number of people attending is 2230\n"
     ]
    }
   ],
   "source": [
    "a=input('Enter the Gender')\n",
    "b=input('Enter the Day')\n",
    "c=input('Type YES if it is increment event event else type NO ')\n",
    "d=input('Type YES if it is decrement event else type NO ')\n",
    "e=input('Type YES if it is No event else type NO ')\n",
    "f=input('Enter the TimeSlot')\n",
    "g=int(input('Based on event and Standard Table, enter the Rating'))\n",
    "\n",
    "# Changing all the charecters to Numericals as we did before\n",
    "\n",
    "if a=='Male':\n",
    "    a=1\n",
    "else:\n",
    "    a=0\n",
    "    \n",
    "\n",
    "if b=='Monday':\n",
    "    b=0\n",
    "elif b=='Tuesday':\n",
    "    b=1\n",
    "elif b=='Wednesday':\n",
    "    b=2\n",
    "elif b=='Thursday':\n",
    "    b=3\n",
    "elif b=='Friday':\n",
    "    b=4\n",
    "elif b=='Saturday':\n",
    "    b=5\n",
    "    \n",
    "if c=='YES':\n",
    "    c=1\n",
    "else:\n",
    "    c=0\n",
    "\n",
    "    \n",
    "if d=='YES':\n",
    "    d=1\n",
    "else:\n",
    "    d=0\n",
    "    \n",
    "if e=='YES':\n",
    "    e=1\n",
    "else:\n",
    "    e=0\n",
    "    \n",
    "\n",
    "if f=='12:30-1:30':\n",
    "    f=0\n",
    "else:\n",
    "    f=1\n",
    "    \n",
    "\n",
    "    \n",
    "arr=regr_RBF.predict([[a,b,c,d,e,f,g]])\n",
    "print('Number of people attending is',int(arr[0]))"
   ]
  },
  {
   "cell_type": "markdown",
   "id": "ee1ac5dd",
   "metadata": {},
   "source": [
    "# Plotting Regressor plots"
   ]
  },
  {
   "cell_type": "code",
   "execution_count": 22,
   "id": "7e31c339",
   "metadata": {},
   "outputs": [],
   "source": [
    "Y_test_New=list(Y_test)\n",
    "Y_o=[[Y_test_New[i],i ]for i in range(len(Y_test_New))]\n",
    "Y_o.sort()\n",
    "Y_test_New.sort()\n",
    "Y_pred_New1=[]\n",
    "Y_pred_New2=[]\n",
    "for i in range(len(Y_pred_RBF)):\n",
    "    Y_pred_New1.append(Y_pred_RBF[Y_o[i][1]])\n",
    "for i in range(len(Y_pred_linear)):\n",
    "    Y_pred_New2.append(Y_pred_linear[Y_o[i][1]])"
   ]
  },
  {
   "cell_type": "code",
   "execution_count": 23,
   "id": "8d91a3f5",
   "metadata": {},
   "outputs": [
    {
     "data": {
      "text/plain": [
       "Text(0.5, 1.0, ' Actual vs Predicted Values for Linear Function')"
      ]
     },
     "execution_count": 23,
     "metadata": {},
     "output_type": "execute_result"
    },
    {
     "data": {
      "image/png": "[encoded data removed]",
      "text/plain": [
       "<Figure size 720x720 with 2 Axes>"
      ]
     },
     "metadata": {
      "needs_background": "light"
     },
     "output_type": "display_data"
    }
   ],
   "source": [
    "plt.figure(figsize=(10,10))\n",
    "plt.subplot(2,1,1)\n",
    "plt.plot(Y_test_New,color='blue',linewidth='5')\n",
    "plt.plot(Y_pred_New1,color='red',linewidth='3')\n",
    "plt.title(' Actual vs Predicted Values for RBF' )\n",
    "plt.subplot(2,1,2)\n",
    "plt.plot(Y_test_New,color='blue',linewidth='5')\n",
    "plt.plot(Y_pred_New2,color='red',linewidth='3')\n",
    "plt.title(' Actual vs Predicted Values for Linear Function' )"
   ]
  },
  {
   "cell_type": "markdown",
   "id": "e52c74d8",
   "metadata": {},
   "source": [
    "**Linear function Prediction values deviates more from the Actual Values compared to RBF Prediction values**"
   ]
  },
  {
   "cell_type": "markdown",
   "id": "58512e65",
   "metadata": {},
   "source": [
    "# Actual Values vs Predicted values plot"
   ]
  },
  {
   "cell_type": "code",
   "execution_count": 24,
   "id": "463247d5",
   "metadata": {},
   "outputs": [
    {
     "data": {
      "image/png": "[encoded data removed]",
      "text/plain": [
       "<Figure size 720x720 with 1 Axes>"
      ]
     },
     "metadata": {
      "needs_background": "light"
     },
     "output_type": "display_data"
    }
   ],
   "source": [
    "plt.figure(figsize=(10,10))\n",
    "plt.scatter(Y_test,Y_pred_RBF,c='crimson')\n",
    "p1=max(max(Y_pred_RBF),max(Y_test))\n",
    "p2=min(min(Y_pred_RBF),min(Y_test))\n",
    "plt.plot([p1,p2],[p1,p2],'b-')\n",
    "plt.xlabel('True Values')\n",
    "plt.ylabel('Predictions')\n",
    "plt.title(' Actual vs Predicted Values for RBF' )\n",
    "plt.axis('equal')\n",
    "plt.show()\n"
   ]
  },
  {
   "cell_type": "markdown",
   "id": "8e9f2203",
   "metadata": {},
   "source": [
    "**How close the Prediction values with 'True values' determines 'accuracy'**"
   ]
  },
  {
   "cell_type": "code",
   "execution_count": null,
   "id": "282a1c6c",
   "metadata": {},
   "outputs": [],
   "source": []
  }
 ],
 "metadata": {
  "kernelspec": {
   "display_name": "Python 3",
   "language": "python",
   "name": "python3"
  },
  "language_info": {
   "codemirror_mode": {
    "name": "ipython",
    "version": 3
   },
   "file_extension": ".py",
   "mimetype": "text/x-python",
   "name": "python",
   "nbconvert_exporter": "python",
   "pygments_lexer": "ipython3",
   "version": "3.8.8"
  }
 },
 "nbformat": 4,
 "nbformat_minor": 5
}
